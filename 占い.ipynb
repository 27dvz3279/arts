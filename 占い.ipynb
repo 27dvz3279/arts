{
 "cells": [
  {
   "cell_type": "code",
   "execution_count": 10,
   "metadata": {},
   "outputs": [
    {
     "name": "stdout",
     "output_type": "stream",
     "text": [
      "中吉\n"
     ]
    }
   ],
   "source": [
    "import random\n",
    "\n",
    "import ipywidgets as widgets\n",
    "\n",
    "\n",
    "num = random.randint(0,30)\n",
    "\n",
    "if num < 2:\n",
    "    print(\"大吉\")\n",
    "elif 2 <= num < 5:\n",
    "    print(\"中吉\")\n",
    "elif 5 <= num < 10:\n",
    "    print(\"小吉\")\n",
    "elif 10 <= num < 15:\n",
    "    print(\"吉\")\n",
    "elif 15 <= num < 20:\n",
    "    print(\"末吉\")\n",
    "elif 20 <= num < 23:\n",
    "    print(\"凶\")\n",
    "elif 23 <= num < 27:\n",
    "    print(\"中凶\")\n",
    "else:\n",
    "    print(\"大凶\")"
   ]
  },
  {
   "cell_type": "code",
   "execution_count": null,
   "metadata": {},
   "outputs": [],
   "source": []
  }
 ],
 "metadata": {
  "kernelspec": {
   "display_name": "Python 3",
   "language": "python",
   "name": "python3"
  },
  "language_info": {
   "codemirror_mode": {
    "name": "ipython",
    "version": 3
   },
   "file_extension": ".py",
   "mimetype": "text/x-python",
   "name": "python",
   "nbconvert_exporter": "python",
   "pygments_lexer": "ipython3",
   "version": "3.8.5"
  }
 },
 "nbformat": 4,
 "nbformat_minor": 4
}
